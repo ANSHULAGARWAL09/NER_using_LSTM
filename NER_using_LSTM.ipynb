{
  "nbformat": 4,
  "nbformat_minor": 0,
  "metadata": {
    "colab": {
      "name": "NER_using_LSTM.ipynb",
      "provenance": [],
      "collapsed_sections": [],
      "authorship_tag": "ABX9TyOiYkZ5pQvlc35vTzw9KfHm",
      "include_colab_link": true
    },
    "kernelspec": {
      "name": "python3",
      "display_name": "Python 3"
    },
    "accelerator": "GPU"
  },
  "cells": [
    {
      "cell_type": "markdown",
      "metadata": {
        "id": "view-in-github",
        "colab_type": "text"
      },
      "source": [
        "<a href=\"https://colab.research.google.com/github/ANSHULAGARWAL09/NER_using_LSTM/blob/master/NER_using_LSTM.ipynb\" target=\"_parent\"><img src=\"https://colab.research.google.com/assets/colab-badge.svg\" alt=\"Open In Colab\"/></a>"
      ]
    },
    {
      "cell_type": "markdown",
      "metadata": {
        "id": "U2KvIE-SZDpg",
        "colab_type": "text"
      },
      "source": [
        "The three common methods to approach entity extraction (and recognition)\n",
        "1.Statistical models\n",
        "2.Entity lists\n",
        "3.Regular Expressions\n",
        "\n",
        "Here, we will se state-of-art-statistical model ."
      ]
    },
    {
      "cell_type": "code",
      "metadata": {
        "id": "_R_kuRplKE-J",
        "colab_type": "code",
        "colab": {
          "base_uri": "https://localhost:8080/",
          "height": 51
        },
        "outputId": "c12b814b-2587-4802-ed05-5f122918268d"
      },
      "source": [
        "# Install extra-dependencies\n",
        "! pip -q install git+https://www.github.com/keras-team/keras-contrib.git sklearn-crfsuite"
      ],
      "execution_count": 1,
      "outputs": [
        {
          "output_type": "stream",
          "text": [
            "\u001b[?25l\r\u001b[K     |▍                               | 10kB 29.3MB/s eta 0:00:01\r\u001b[K     |▉                               | 20kB 32.9MB/s eta 0:00:01\r\u001b[K     |█▎                              | 30kB 38.5MB/s eta 0:00:01\r\u001b[K     |█▊                              | 40kB 40.5MB/s eta 0:00:01\r\u001b[K     |██▏                             | 51kB 43.4MB/s eta 0:00:01\r\u001b[K     |██▋                             | 61kB 45.6MB/s eta 0:00:01\r\u001b[K     |███                             | 71kB 43.8MB/s eta 0:00:01\r\u001b[K     |███▌                            | 81kB 44.5MB/s eta 0:00:01\r\u001b[K     |████                            | 92kB 46.1MB/s eta 0:00:01\r\u001b[K     |████▍                           | 102kB 46.6MB/s eta 0:00:01\r\u001b[K     |████▉                           | 112kB 46.6MB/s eta 0:00:01\r\u001b[K     |█████▎                          | 122kB 46.6MB/s eta 0:00:01\r\u001b[K     |█████▊                          | 133kB 46.6MB/s eta 0:00:01\r\u001b[K     |██████▏                         | 143kB 46.6MB/s eta 0:00:01\r\u001b[K     |██████▋                         | 153kB 46.6MB/s eta 0:00:01\r\u001b[K     |███████                         | 163kB 46.6MB/s eta 0:00:01\r\u001b[K     |███████▌                        | 174kB 46.6MB/s eta 0:00:01\r\u001b[K     |████████                        | 184kB 46.6MB/s eta 0:00:01\r\u001b[K     |████████▍                       | 194kB 46.6MB/s eta 0:00:01\r\u001b[K     |████████▉                       | 204kB 46.6MB/s eta 0:00:01\r\u001b[K     |█████████▎                      | 215kB 46.6MB/s eta 0:00:01\r\u001b[K     |█████████▊                      | 225kB 46.6MB/s eta 0:00:01\r\u001b[K     |██████████▏                     | 235kB 46.6MB/s eta 0:00:01\r\u001b[K     |██████████▋                     | 245kB 46.6MB/s eta 0:00:01\r\u001b[K     |███████████                     | 256kB 46.6MB/s eta 0:00:01\r\u001b[K     |███████████▌                    | 266kB 46.6MB/s eta 0:00:01\r\u001b[K     |████████████                    | 276kB 46.6MB/s eta 0:00:01\r\u001b[K     |████████████▎                   | 286kB 46.6MB/s eta 0:00:01\r\u001b[K     |████████████▊                   | 296kB 46.6MB/s eta 0:00:01\r\u001b[K     |█████████████▏                  | 307kB 46.6MB/s eta 0:00:01\r\u001b[K     |█████████████▋                  | 317kB 46.6MB/s eta 0:00:01\r\u001b[K     |██████████████                  | 327kB 46.6MB/s eta 0:00:01\r\u001b[K     |██████████████▌                 | 337kB 46.6MB/s eta 0:00:01\r\u001b[K     |███████████████                 | 348kB 46.6MB/s eta 0:00:01\r\u001b[K     |███████████████▍                | 358kB 46.6MB/s eta 0:00:01\r\u001b[K     |███████████████▉                | 368kB 46.6MB/s eta 0:00:01\r\u001b[K     |████████████████▎               | 378kB 46.6MB/s eta 0:00:01\r\u001b[K     |████████████████▊               | 389kB 46.6MB/s eta 0:00:01\r\u001b[K     |█████████████████▏              | 399kB 46.6MB/s eta 0:00:01\r\u001b[K     |█████████████████▋              | 409kB 46.6MB/s eta 0:00:01\r\u001b[K     |██████████████████              | 419kB 46.6MB/s eta 0:00:01\r\u001b[K     |██████████████████▌             | 430kB 46.6MB/s eta 0:00:01\r\u001b[K     |███████████████████             | 440kB 46.6MB/s eta 0:00:01\r\u001b[K     |███████████████████▍            | 450kB 46.6MB/s eta 0:00:01\r\u001b[K     |███████████████████▉            | 460kB 46.6MB/s eta 0:00:01\r\u001b[K     |████████████████████▎           | 471kB 46.6MB/s eta 0:00:01\r\u001b[K     |████████████████████▊           | 481kB 46.6MB/s eta 0:00:01\r\u001b[K     |█████████████████████▏          | 491kB 46.6MB/s eta 0:00:01\r\u001b[K     |█████████████████████▋          | 501kB 46.6MB/s eta 0:00:01\r\u001b[K     |██████████████████████          | 512kB 46.6MB/s eta 0:00:01\r\u001b[K     |██████████████████████▌         | 522kB 46.6MB/s eta 0:00:01\r\u001b[K     |███████████████████████         | 532kB 46.6MB/s eta 0:00:01\r\u001b[K     |███████████████████████▍        | 542kB 46.6MB/s eta 0:00:01\r\u001b[K     |███████████████████████▉        | 552kB 46.6MB/s eta 0:00:01\r\u001b[K     |████████████████████████▎       | 563kB 46.6MB/s eta 0:00:01\r\u001b[K     |████████████████████████▋       | 573kB 46.6MB/s eta 0:00:01\r\u001b[K     |█████████████████████████       | 583kB 46.6MB/s eta 0:00:01\r\u001b[K     |█████████████████████████▌      | 593kB 46.6MB/s eta 0:00:01\r\u001b[K     |██████████████████████████      | 604kB 46.6MB/s eta 0:00:01\r\u001b[K     |██████████████████████████▍     | 614kB 46.6MB/s eta 0:00:01\r\u001b[K     |██████████████████████████▉     | 624kB 46.6MB/s eta 0:00:01\r\u001b[K     |███████████████████████████▎    | 634kB 46.6MB/s eta 0:00:01\r\u001b[K     |███████████████████████████▊    | 645kB 46.6MB/s eta 0:00:01\r\u001b[K     |████████████████████████████▏   | 655kB 46.6MB/s eta 0:00:01\r\u001b[K     |████████████████████████████▋   | 665kB 46.6MB/s eta 0:00:01\r\u001b[K     |█████████████████████████████   | 675kB 46.6MB/s eta 0:00:01\r\u001b[K     |█████████████████████████████▌  | 686kB 46.6MB/s eta 0:00:01\r\u001b[K     |██████████████████████████████  | 696kB 46.6MB/s eta 0:00:01\r\u001b[K     |██████████████████████████████▍ | 706kB 46.6MB/s eta 0:00:01\r\u001b[K     |██████████████████████████████▉ | 716kB 46.6MB/s eta 0:00:01\r\u001b[K     |███████████████████████████████▎| 727kB 46.6MB/s eta 0:00:01\r\u001b[K     |███████████████████████████████▊| 737kB 46.6MB/s eta 0:00:01\r\u001b[K     |████████████████████████████████| 747kB 46.6MB/s \n",
            "\u001b[?25h  Building wheel for keras-contrib (setup.py) ... \u001b[?25l\u001b[?25hdone\n"
          ],
          "name": "stdout"
        }
      ]
    },
    {
      "cell_type": "code",
      "metadata": {
        "id": "4B88cY1UKQfD",
        "colab_type": "code",
        "colab": {
          "base_uri": "https://localhost:8080/",
          "height": 34
        },
        "outputId": "bcaab85e-4374-44d4-b77e-fd384eb98bd6"
      },
      "source": [
        "import tensorflow as tf\n",
        "import keras\n",
        "\n",
        "import pandas as pd\n",
        "import numpy as np\n",
        "import matplotlib.pyplot as plt"
      ],
      "execution_count": 2,
      "outputs": [
        {
          "output_type": "stream",
          "text": [
            "Using TensorFlow backend.\n"
          ],
          "name": "stderr"
        }
      ]
    },
    {
      "cell_type": "markdown",
      "metadata": {
        "id": "hKkONLfcZogm",
        "colab_type": "text"
      },
      "source": [
        "**Hyper-parameters Optimization**"
      ]
    },
    {
      "cell_type": "code",
      "metadata": {
        "id": "3zVt-Zs1KdxX",
        "colab_type": "code",
        "colab": {}
      },
      "source": [
        "# Hyperparams\n",
        "BATCH_SIZE = 512  # Number of examples used in each iteration\n",
        "EPOCHS = 5  # Number of passes through entire dataset\n",
        "MAX_LEN = 80  # Max length of review (in words)\n",
        "EMBEDDING = 40  # Dimension of word embedding vector"
      ],
      "execution_count": 0,
      "outputs": []
    },
    {
      "cell_type": "markdown",
      "metadata": {
        "id": "4YAG3lPrZea5",
        "colab_type": "text"
      },
      "source": [
        "**Importing Dataset**"
      ]
    },
    {
      "cell_type": "code",
      "metadata": {
        "id": "3OnemdPjKkRo",
        "colab_type": "code",
        "colab": {
          "base_uri": "https://localhost:8080/",
          "height": 444
        },
        "outputId": "72a493c0-9424-4c09-ccb0-6aa3210da923"
      },
      "source": [
        "data = pd.read_csv(\"ner_dataset.csv\", encoding=\"latin1\")\n",
        "data = data.fillna(method=\"ffill\")\n",
        "\n",
        "print(\"Number of sentences: \", len(data.groupby(['Sentence #'])))\n",
        "\n",
        "words = list(set(data[\"Word\"].values))\n",
        "n_words = len(words)\n",
        "print(\"Number of words in the dataset: \", n_words)\n",
        "\n",
        "tags = list(set(data[\"Tag\"].values))\n",
        "print(\"Tags:\", tags)\n",
        "n_tags = len(tags)\n",
        "print(\"Number of Labels: \", n_tags)\n",
        "\n",
        "print(\"What the dataset looks like:\")\n",
        "# Show the first 10 rows\n",
        "data.head(10)"
      ],
      "execution_count": 4,
      "outputs": [
        {
          "output_type": "stream",
          "text": [
            "Number of sentences:  47960\n",
            "Number of words in the dataset:  35179\n",
            "Tags: ['I-eve', 'B-geo', 'I-gpe', 'B-per', 'I-nat', 'B-tim', 'B-gpe', 'B-nat', 'O', 'I-org', 'B-art', 'I-art', 'I-per', 'I-tim', 'B-eve', 'I-geo', 'B-org']\n",
            "Number of Labels:  17\n",
            "What the dataset looks like:\n"
          ],
          "name": "stdout"
        },
        {
          "output_type": "execute_result",
          "data": {
            "text/html": [
              "<div>\n",
              "<style scoped>\n",
              "    .dataframe tbody tr th:only-of-type {\n",
              "        vertical-align: middle;\n",
              "    }\n",
              "\n",
              "    .dataframe tbody tr th {\n",
              "        vertical-align: top;\n",
              "    }\n",
              "\n",
              "    .dataframe thead th {\n",
              "        text-align: right;\n",
              "    }\n",
              "</style>\n",
              "<table border=\"1\" class=\"dataframe\">\n",
              "  <thead>\n",
              "    <tr style=\"text-align: right;\">\n",
              "      <th></th>\n",
              "      <th>Sentence #</th>\n",
              "      <th>Word</th>\n",
              "      <th>POS</th>\n",
              "      <th>Tag</th>\n",
              "    </tr>\n",
              "  </thead>\n",
              "  <tbody>\n",
              "    <tr>\n",
              "      <th>0</th>\n",
              "      <td>Sentence: 1</td>\n",
              "      <td>Thousands</td>\n",
              "      <td>NNS</td>\n",
              "      <td>O</td>\n",
              "    </tr>\n",
              "    <tr>\n",
              "      <th>1</th>\n",
              "      <td>Sentence: 1</td>\n",
              "      <td>of</td>\n",
              "      <td>IN</td>\n",
              "      <td>O</td>\n",
              "    </tr>\n",
              "    <tr>\n",
              "      <th>2</th>\n",
              "      <td>Sentence: 1</td>\n",
              "      <td>demonstrators</td>\n",
              "      <td>NNS</td>\n",
              "      <td>O</td>\n",
              "    </tr>\n",
              "    <tr>\n",
              "      <th>3</th>\n",
              "      <td>Sentence: 1</td>\n",
              "      <td>have</td>\n",
              "      <td>VBP</td>\n",
              "      <td>O</td>\n",
              "    </tr>\n",
              "    <tr>\n",
              "      <th>4</th>\n",
              "      <td>Sentence: 1</td>\n",
              "      <td>marched</td>\n",
              "      <td>VBN</td>\n",
              "      <td>O</td>\n",
              "    </tr>\n",
              "    <tr>\n",
              "      <th>5</th>\n",
              "      <td>Sentence: 1</td>\n",
              "      <td>through</td>\n",
              "      <td>IN</td>\n",
              "      <td>O</td>\n",
              "    </tr>\n",
              "    <tr>\n",
              "      <th>6</th>\n",
              "      <td>Sentence: 1</td>\n",
              "      <td>London</td>\n",
              "      <td>NNP</td>\n",
              "      <td>B-geo</td>\n",
              "    </tr>\n",
              "    <tr>\n",
              "      <th>7</th>\n",
              "      <td>Sentence: 1</td>\n",
              "      <td>to</td>\n",
              "      <td>TO</td>\n",
              "      <td>O</td>\n",
              "    </tr>\n",
              "    <tr>\n",
              "      <th>8</th>\n",
              "      <td>Sentence: 1</td>\n",
              "      <td>protest</td>\n",
              "      <td>VB</td>\n",
              "      <td>O</td>\n",
              "    </tr>\n",
              "    <tr>\n",
              "      <th>9</th>\n",
              "      <td>Sentence: 1</td>\n",
              "      <td>the</td>\n",
              "      <td>DT</td>\n",
              "      <td>O</td>\n",
              "    </tr>\n",
              "  </tbody>\n",
              "</table>\n",
              "</div>"
            ],
            "text/plain": [
              "    Sentence #           Word  POS    Tag\n",
              "0  Sentence: 1      Thousands  NNS      O\n",
              "1  Sentence: 1             of   IN      O\n",
              "2  Sentence: 1  demonstrators  NNS      O\n",
              "3  Sentence: 1           have  VBP      O\n",
              "4  Sentence: 1        marched  VBN      O\n",
              "5  Sentence: 1        through   IN      O\n",
              "6  Sentence: 1         London  NNP  B-geo\n",
              "7  Sentence: 1             to   TO      O\n",
              "8  Sentence: 1        protest   VB      O\n",
              "9  Sentence: 1            the   DT      O"
            ]
          },
          "metadata": {
            "tags": []
          },
          "execution_count": 4
        }
      ]
    },
    {
      "cell_type": "markdown",
      "metadata": {
        "id": "7-OymbcxZ8Aw",
        "colab_type": "text"
      },
      "source": [
        "**Visualization**"
      ]
    },
    {
      "cell_type": "markdown",
      "metadata": {
        "id": "wEg4KbT_Z55Q",
        "colab_type": "text"
      },
      "source": [
        "To visualize the data I plotted a graph Between the number of tokens and number of samples"
      ]
    },
    {
      "cell_type": "code",
      "metadata": {
        "id": "FLqvRcm1LH1d",
        "colab_type": "code",
        "colab": {
          "base_uri": "https://localhost:8080/",
          "height": 295
        },
        "outputId": "b68aa0ca-48f1-4dcd-dd12-02f3e8665e29"
      },
      "source": [
        "class SentenceGetter(object):\n",
        "    \"\"\"Class to Get the sentence in this format:\n",
        "    [(Token_1, Part_of_Speech_1, Tag_1), ..., (Token_n, Part_of_Speech_1, Tag_1)]\"\"\"\n",
        "    def __init__(self, data):\n",
        "        \"\"\"Args:\n",
        "            data is the pandas.DataFrame which contains the above dataset\"\"\"\n",
        "        self.n_sent = 1\n",
        "        self.data = data\n",
        "        self.empty = False\n",
        "        agg_func = lambda s: [(w, p, t) for w, p, t in zip(s[\"Word\"].values.tolist(),\n",
        "                                                           s[\"POS\"].values.tolist(),\n",
        "                                                           s[\"Tag\"].values.tolist())]\n",
        "        self.grouped = self.data.groupby(\"Sentence #\").apply(agg_func)\n",
        "        self.sentences = [s for s in self.grouped]\n",
        "    \n",
        "    def get_next(self):\n",
        "        \"\"\"Return one sentence\"\"\"\n",
        "        try:\n",
        "            s = self.grouped[\"Sentence: {}\".format(self.n_sent)]\n",
        "            self.n_sent += 1\n",
        "            return s\n",
        "        except:\n",
        "            return None\n",
        "        \n",
        "getter = SentenceGetter(data)\n",
        "sent = getter.get_next()\n",
        "\n",
        "# Get all the sentences\n",
        "sentences = getter.sentences\n",
        "\n",
        "# Plot sentence by lenght\n",
        "plt.hist([len(s) for s in sentences], bins=50)\n",
        "plt.title('Token per sentence')\n",
        "plt.xlabel('Len (number of token)')\n",
        "plt.ylabel('# samples')\n",
        "plt.show()\n"
      ],
      "execution_count": 5,
      "outputs": [
        {
          "output_type": "display_data",
          "data": {
            "image/png": "[encoded data removed]",
            "text/plain": [
              "<Figure size 432x288 with 1 Axes>"
            ]
          },
          "metadata": {
            "tags": [],
            "needs_background": "light"
          }
        }
      ]
    },
    {
      "cell_type": "markdown",
      "metadata": {
        "id": "-jJxk20-a5Hf",
        "colab_type": "text"
      },
      "source": [
        "Tokens per sentence comes out as Gaussian Distribution which was expected due to central limit theorem."
      ]
    },
    {
      "cell_type": "code",
      "metadata": {
        "id": "2mdiG0RTLhPi",
        "colab_type": "code",
        "colab": {
          "base_uri": "https://localhost:8080/",
          "height": 34
        },
        "outputId": "781e128a-88f3-418c-d65d-554bfe0daa32"
      },
      "source": [
        "# Vocabulary Key:word -> Value:token_index\n",
        "# The first 2 entries are reserved for PAD and UNK\n",
        "word2idx = {w: i + 2 for i, w in enumerate(words)}\n",
        "word2idx[\"UNK\"] = 1 # Unknown words\n",
        "word2idx[\"PAD\"] = 0 # Padding\n",
        "# Vocabulary Key:token_index -> Value:word\n",
        "idx2word = {i: w for w, i in word2idx.items()}\n",
        "print(\"The word Obama is identified by the index: {}\".format(word2idx[\"Obama\"]))"
      ],
      "execution_count": 6,
      "outputs": [
        {
          "output_type": "stream",
          "text": [
            "The word Obama is identified by the index: 27406\n"
          ],
          "name": "stdout"
        }
      ]
    },
    {
      "cell_type": "code",
      "metadata": {
        "id": "icUuf90CLlHc",
        "colab_type": "code",
        "colab": {
          "base_uri": "https://localhost:8080/",
          "height": 34
        },
        "outputId": "2a4e4219-8cb4-4a7d-8b2c-8bcf968e1959"
      },
      "source": [
        "# Vocabulary Key:Label/Tag -> Value:tag_index\n",
        "# The first entry is reserved for PAD\n",
        "tag2idx = {t: i+1 for i, t in enumerate(tags)}\n",
        "tag2idx[\"PAD\"] = 0\n",
        "# Vocabulary Key:tag_index -> Value:Label/Tag\n",
        "idx2tag = {i: w for w, i in tag2idx.items()}\n",
        "print(\"The labels B-geo(which defines Geopraphical Enitities) is identified by the index: {}\".format(tag2idx[\"B-geo\"]))"
      ],
      "execution_count": 7,
      "outputs": [
        {
          "output_type": "stream",
          "text": [
            "The labels B-geo(which defines Geopraphical Enitities) is identified by the index: 2\n"
          ],
          "name": "stdout"
        }
      ]
    },
    {
      "cell_type": "code",
      "metadata": {
        "id": "WGdHl7eRMCF2",
        "colab_type": "code",
        "colab": {
          "base_uri": "https://localhost:8080/",
          "height": 289
        },
        "outputId": "0827cb73-89c0-494f-9db0-d691366af608"
      },
      "source": [
        "from keras.preprocessing.sequence import pad_sequences\n",
        "# Convert each sentence from list of Token to list of word_index\n",
        "X = [[word2idx[w[0]] for w in s] for s in sentences]\n",
        "# Padding each sentence to have the same lenght\n",
        "X = pad_sequences(maxlen=MAX_LEN, sequences=X, padding=\"post\", value=word2idx[\"PAD\"])\n",
        "\n",
        "# Convert Tag/Label to tag_index\n",
        "y = [[tag2idx[w[2]] for w in s] for s in sentences]\n",
        "# Padding each sentence to have the same lenght\n",
        "y = pad_sequences(maxlen=MAX_LEN, sequences=y, padding=\"post\", value=tag2idx[\"PAD\"])\n",
        "\n",
        "from keras.utils import to_categorical\n",
        "# One-Hot encode\n",
        "y = [to_categorical(i, num_classes=n_tags+1) for i in y]  # n_tags+1(PAD)\n",
        "\n",
        "from sklearn.model_selection import train_test_split\n",
        "X_tr, X_te, y_tr, y_te = train_test_split(X, y, test_size=0.1)\n",
        "X_tr.shape, X_te.shape, np.array(y_tr).shape, np.array(y_te).shape\n",
        "\n",
        "print('Raw Sample: ', ' '.join([w[0] for w in sentences[0]]))\n",
        "print('Raw Label: ', ' '.join([w[2] for w in sentences[0]]))\n",
        "print('After processing, sample:', X[0])\n",
        "print('After processing, labels:', y[0])"
      ],
      "execution_count": 8,
      "outputs": [
        {
          "output_type": "stream",
          "text": [
            "Raw Sample:  Thousands of demonstrators have marched through London to protest the war in Iraq and demand the withdrawal of British troops from that country .\n",
            "Raw Label:  O O O O O O B-geo O O O O O B-geo O O O O O B-gpe O O O O O\n",
            "After processing, sample: [18018 19903  6601 24468 11488 11855 15580  4595  8990  5078  7046 31512\n",
            "   749  5780 34811  5078 10377 19903 11515 18048 29058 16869 20904 24380\n",
            "     0     0     0     0     0     0     0     0     0     0     0     0\n",
            "     0     0     0     0     0     0     0     0     0     0     0     0\n",
            "     0     0     0     0     0     0     0     0     0     0     0     0\n",
            "     0     0     0     0     0     0     0     0     0     0     0     0\n",
            "     0     0     0     0     0     0     0     0]\n",
            "After processing, labels: [[0. 0. 0. ... 0. 0. 0.]\n",
            " [0. 0. 0. ... 0. 0. 0.]\n",
            " [0. 0. 0. ... 0. 0. 0.]\n",
            " ...\n",
            " [1. 0. 0. ... 0. 0. 0.]\n",
            " [1. 0. 0. ... 0. 0. 0.]\n",
            " [1. 0. 0. ... 0. 0. 0.]]\n"
          ],
          "name": "stdout"
        }
      ]
    },
    {
      "cell_type": "code",
      "metadata": {
        "id": "1fipeR11MGwm",
        "colab_type": "code",
        "colab": {
          "base_uri": "https://localhost:8080/",
          "height": 411
        },
        "outputId": "3287a2be-c41d-4851-f32e-8f4a784385d0"
      },
      "source": [
        "from keras.models import Model, Input\n",
        "from keras.layers import LSTM, Embedding, Dense, TimeDistributed, Dropout, Bidirectional\n",
        "from keras_contrib.layers import CRF\n",
        "\n",
        "# Model definition\n",
        "input = Input(shape=(MAX_LEN,))\n",
        "model = Embedding(input_dim=n_words+2, output_dim=EMBEDDING, # n_words + 2 (PAD & UNK)\n",
        "                  input_length=MAX_LEN)(input)  # default: 20-dim embedding\n",
        "model = Bidirectional(LSTM(units=50, return_sequences=True,\n",
        "                           recurrent_dropout=0.1))(model)  # variational biLSTM\n",
        "model = TimeDistributed(Dense(50, activation=\"relu\"))(model)  # a dense layer as suggested by neuralNer\n",
        "crf = CRF(n_tags+1)  # CRF layer, n_tags+1(PAD)\n",
        "out = crf(model)  # output\n",
        "\n",
        "model = Model(input, out)\n",
        "model.compile(optimizer=\"rmsprop\", loss=crf.loss_function, metrics=[crf.accuracy])\n",
        "\n",
        "model.summary()"
      ],
      "execution_count": 9,
      "outputs": [
        {
          "output_type": "stream",
          "text": [
            "Model: \"model_1\"\n",
            "_________________________________________________________________\n",
            "Layer (type)                 Output Shape              Param #   \n",
            "=================================================================\n",
            "input_1 (InputLayer)         (None, 80)                0         \n",
            "_________________________________________________________________\n",
            "embedding_1 (Embedding)      (None, 80, 40)            1407240   \n",
            "_________________________________________________________________\n",
            "bidirectional_1 (Bidirection (None, 80, 100)           36400     \n",
            "_________________________________________________________________\n",
            "time_distributed_1 (TimeDist (None, 80, 50)            5050      \n",
            "_________________________________________________________________\n",
            "crf_1 (CRF)                  (None, 80, 18)            1278      \n",
            "=================================================================\n",
            "Total params: 1,449,968\n",
            "Trainable params: 1,449,968\n",
            "Non-trainable params: 0\n",
            "_________________________________________________________________\n"
          ],
          "name": "stdout"
        },
        {
          "output_type": "stream",
          "text": [
            "/usr/local/lib/python3.6/dist-packages/keras_contrib/layers/crf.py:346: UserWarning: CRF.loss_function is deprecated and it might be removed in the future. Please use losses.crf_loss instead.\n",
            "  warnings.warn('CRF.loss_function is deprecated '\n",
            "/usr/local/lib/python3.6/dist-packages/keras_contrib/layers/crf.py:353: UserWarning: CRF.accuracy is deprecated and it might be removed in the future. Please use metrics.crf_accuracy\n",
            "  warnings.warn('CRF.accuracy is deprecated and it '\n"
          ],
          "name": "stderr"
        }
      ]
    },
    {
      "cell_type": "markdown",
      "metadata": {
        "id": "ulORoUmFcmcY",
        "colab_type": "text"
      },
      "source": [
        "**Training and Evaluation**"
      ]
    },
    {
      "cell_type": "code",
      "metadata": {
        "id": "feNer-RQMOmt",
        "colab_type": "code",
        "colab": {
          "base_uri": "https://localhost:8080/",
          "height": 258
        },
        "outputId": "3e70c961-4e9a-4192-8372-7f6e75d9f95f"
      },
      "source": [
        "history = model.fit(X_tr, np.array(y_tr), batch_size=BATCH_SIZE, epochs=EPOCHS, validation_split=0.1, verbose=2)"
      ],
      "execution_count": 10,
      "outputs": [
        {
          "output_type": "stream",
          "text": [
            "/usr/local/lib/python3.6/dist-packages/tensorflow/python/framework/indexed_slices.py:434: UserWarning: Converting sparse IndexedSlices to a dense Tensor of unknown shape. This may consume a large amount of memory.\n",
            "  \"Converting sparse IndexedSlices to a dense Tensor of unknown shape. \"\n"
          ],
          "name": "stderr"
        },
        {
          "output_type": "stream",
          "text": [
            "Train on 38847 samples, validate on 4317 samples\n",
            "Epoch 1/5\n",
            " - 31s - loss: 0.5081 - crf_viterbi_accuracy: 0.8689 - val_loss: 0.2361 - val_crf_viterbi_accuracy: 0.9536\n",
            "Epoch 2/5\n",
            " - 28s - loss: 0.2043 - crf_viterbi_accuracy: 0.9546 - val_loss: 0.1501 - val_crf_viterbi_accuracy: 0.9567\n",
            "Epoch 3/5\n",
            " - 30s - loss: 0.1085 - crf_viterbi_accuracy: 0.9679 - val_loss: 0.0800 - val_crf_viterbi_accuracy: 0.9775\n",
            "Epoch 4/5\n",
            " - 29s - loss: 0.0641 - crf_viterbi_accuracy: 0.9822 - val_loss: 0.0546 - val_crf_viterbi_accuracy: 0.9844\n",
            "Epoch 5/5\n",
            " - 29s - loss: 0.0448 - crf_viterbi_accuracy: 0.9871 - val_loss: 0.0427 - val_crf_viterbi_accuracy: 0.9875\n"
          ],
          "name": "stdout"
        }
      ]
    },
    {
      "cell_type": "code",
      "metadata": {
        "id": "qMZi9fZ1XUtW",
        "colab_type": "code",
        "colab": {}
      },
      "source": [
        "# Eval\n",
        "pred_cat = model.predict(X_te)\n",
        "pred = np.argmax(pred_cat, axis=-1)\n",
        "y_te_true = np.argmax(y_te, -1)"
      ],
      "execution_count": 0,
      "outputs": []
    },
    {
      "cell_type": "code",
      "metadata": {
        "id": "11bd6wUvYCtL",
        "colab_type": "code",
        "colab": {
          "base_uri": "https://localhost:8080/",
          "height": 496
        },
        "outputId": "33713088-0e81-4080-dfc1-8c51bff69667"
      },
      "source": [
        "from sklearn_crfsuite.metrics import flat_classification_report\n",
        "\n",
        "# Convert the index to tag\n",
        "pred_tag = [[idx2tag[i] for i in row] for row in pred]\n",
        "y_te_true_tag = [[idx2tag[i] for i in row] for row in y_te_true] \n",
        "\n",
        "report = flat_classification_report(y_pred=pred_tag, y_true=y_te_true_tag)\n",
        "print(report)"
      ],
      "execution_count": 12,
      "outputs": [
        {
          "output_type": "stream",
          "text": [
            "/usr/local/lib/python3.6/dist-packages/sklearn/metrics/_classification.py:1272: UndefinedMetricWarning: Precision and F-score are ill-defined and being set to 0.0 in labels with no predicted samples. Use `zero_division` parameter to control this behavior.\n",
            "  _warn_prf(average, modifier, msg_start, len(result))\n"
          ],
          "name": "stderr"
        },
        {
          "output_type": "stream",
          "text": [
            "              precision    recall  f1-score   support\n",
            "\n",
            "       B-art       0.00      0.00      0.00        41\n",
            "       B-eve       0.00      0.00      0.00        45\n",
            "       B-geo       0.81      0.85      0.83      4084\n",
            "       B-gpe       0.89      0.92      0.90      1670\n",
            "       B-nat       0.00      0.00      0.00        29\n",
            "       B-org       0.67      0.59      0.63      2101\n",
            "       B-per       0.82      0.70      0.76      1822\n",
            "       B-tim       0.90      0.79      0.84      2206\n",
            "       I-art       0.00      0.00      0.00        39\n",
            "       I-eve       0.00      0.00      0.00        37\n",
            "       I-geo       0.80      0.58      0.67       794\n",
            "       I-gpe       0.00      0.00      0.00        16\n",
            "       I-nat       0.00      0.00      0.00         8\n",
            "       I-org       0.69      0.73      0.71      1826\n",
            "       I-per       0.78      0.87      0.82      1773\n",
            "       I-tim       0.75      0.57      0.65       646\n",
            "           O       0.98      0.99      0.99     94909\n",
            "         PAD       1.00      1.00      1.00    271634\n",
            "\n",
            "    accuracy                           0.99    383680\n",
            "   macro avg       0.51      0.48      0.49    383680\n",
            "weighted avg       0.99      0.99      0.99    383680\n",
            "\n"
          ],
          "name": "stdout"
        }
      ]
    },
    {
      "cell_type": "code",
      "metadata": {
        "id": "wxVqrWXYYGZw",
        "colab_type": "code",
        "colab": {}
      },
      "source": [
        ""
      ],
      "execution_count": 0,
      "outputs": []
    }
  ]
}